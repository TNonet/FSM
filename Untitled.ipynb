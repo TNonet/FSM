{
 "cells": [
  {
   "cell_type": "code",
   "execution_count": 24,
   "metadata": {},
   "outputs": [],
   "source": [
    "import numba as nb\n",
    "import numpy as np"
   ]
  },
  {
   "cell_type": "code",
   "execution_count": 25,
   "metadata": {},
   "outputs": [
    {
     "data": {
      "text/plain": [
       "'0.46.0'"
      ]
     },
     "execution_count": 25,
     "metadata": {},
     "output_type": "execute_result"
    }
   ],
   "source": [
    "nb.__version__"
   ]
  },
  {
   "cell_type": "code",
   "execution_count": 29,
   "metadata": {},
   "outputs": [],
   "source": [
    "A_spec = [\n",
    "    ('a', nb.float64[::100,::100]),\n",
    "]\n",
    "\n",
    "\n",
    "@nb.jitclass(A_spec)\n",
    "class A:\n",
    "    def __init__(self, _a):\n",
    "        \"\"\"\n",
    "        \"\"\"\n",
    "\n",
    "        self.a = _a\n",
    "        \n",
    "    def sum2d(self, other):\n",
    "        if other.flags.f_contiguous:\n",
    "            raise Exception(\"Fortran Array Needed\")\n",
    "        return other + self.a\n",
    "\n",
    "def B_constructor(A_iterable):\n",
    "    \"\"\"\n",
    "    \"\"\"\n",
    "\n",
    "\n",
    "    depth = len(A_iterable)\n",
    "    A_tuple = tuple(A_iterable)\n",
    "\n",
    "    A_type = nb.deferred_type()\n",
    "    A_type.define(A.class_type.instance_type)\n",
    "\n",
    "    B_spec = [\n",
    "        ('A_tuple', nb.types.UniTuple(A_type, depth)),\n",
    "    ]\n",
    "\n",
    "    @nb.jitclass(B_spec)\n",
    "    class B:\n",
    "        def __init__(self, _a_tuple):\n",
    "            \"\"\"\n",
    "            \"\"\"\n",
    "            self.A_tuple = _a_tuple\n",
    "            \n",
    "        def iter(self, init):\n",
    "            out = np.zeros((10,10))\n",
    "            for sub_A in self.A_tuple:\n",
    "                out += sub_A.sum2d(init)\n",
    "            return np.mean(out)\n",
    "                \n",
    "    return B(A_tuple)"
   ]
  },
  {
   "cell_type": "code",
   "execution_count": 30,
   "metadata": {},
   "outputs": [
    {
     "data": {
      "text/plain": [
       "2.0933488821224913"
      ]
     },
     "execution_count": 30,
     "metadata": {},
     "output_type": "execute_result"
    }
   ],
   "source": [
    "num = 2\n",
    "\n",
    "lst = []\n",
    "for i in range(num):\n",
    "    lst.append(A(np.random.rand(100,100)))\n",
    "\n",
    "B = B_constructor(lst)\n",
    "B.iter(np.random.rand(100,100))"
   ]
  },
  {
   "cell_type": "code",
   "execution_count": 16,
   "metadata": {},
   "outputs": [],
   "source": [
    "x = np.random.rand(100,100)"
   ]
  },
  {
   "cell_type": "code",
   "execution_count": 23,
   "metadata": {},
   "outputs": [
    {
     "data": {
      "text/plain": [
       "  C_CONTIGUOUS : True\n",
       "  F_CONTIGUOUS : False\n",
       "  OWNDATA : True\n",
       "  WRITEABLE : True\n",
       "  ALIGNED : True\n",
       "  WRITEBACKIFCOPY : False\n",
       "  UPDATEIFCOPY : False"
      ]
     },
     "execution_count": 23,
     "metadata": {},
     "output_type": "execute_result"
    }
   ],
   "source": [
    "x.flags"
   ]
  },
  {
   "cell_type": "code",
   "execution_count": null,
   "metadata": {},
   "outputs": [],
   "source": [
    "B.iter(12)"
   ]
  },
  {
   "cell_type": "code",
   "execution_count": null,
   "metadata": {},
   "outputs": [],
   "source": []
  }
 ],
 "metadata": {
  "kernelspec": {
   "display_name": "Python 3",
   "language": "python",
   "name": "python3"
  },
  "language_info": {
   "codemirror_mode": {
    "name": "ipython",
    "version": 3
   },
   "file_extension": ".py",
   "mimetype": "text/x-python",
   "name": "python",
   "nbconvert_exporter": "python",
   "pygments_lexer": "ipython3",
   "version": "3.7.3"
  }
 },
 "nbformat": 4,
 "nbformat_minor": 4
}
