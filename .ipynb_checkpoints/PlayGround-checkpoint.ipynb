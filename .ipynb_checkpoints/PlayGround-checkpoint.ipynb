{
 "cells": [
  {
   "cell_type": "code",
   "execution_count": 1,
   "metadata": {},
   "outputs": [],
   "source": [
    "import fsm\n",
    "from fsm.sparse.spartype import *\n",
    "import numpy as np\n",
    "import numba as nb\n",
    "import random_gen\n",
    "from sys import getsizeof"
   ]
  },
  {
   "cell_type": "code",
   "execution_count": 17,
   "metadata": {},
   "outputs": [],
   "source": [
    "gen_f = random_gen.test_f_matrix(5,5, k = 20)"
   ]
  },
  {
   "cell_type": "code",
   "execution_count": 18,
   "metadata": {},
   "outputs": [],
   "source": [
    "array_np, array_sparse = next(gen_f)\n",
    "u = np.random.rand(5,2)\n",
    "u = np.asfortranarray(u)"
   ]
  },
  {
   "cell_type": "code",
   "execution_count": 19,
   "metadata": {},
   "outputs": [
    {
     "name": "stdout",
     "output_type": "stream",
     "text": [
      "20\n"
     ]
    }
   ],
   "source": [
    "print(array_sparse.depth)\n",
    "out = np.zeros((array_sparse.shape[0],2))\n",
    "for b_matrix in array_sparse.b_decomp:\n",
    "    out += b_matrix.dot2d(u)"
   ]
  },
  {
   "cell_type": "code",
   "execution_count": 20,
   "metadata": {},
   "outputs": [
    {
     "data": {
      "text/plain": [
       "array([[0., 0., 0., 0., 0.],\n",
       "       [0., 0., 0., 0., 0.],\n",
       "       [0., 0., 0., 0., 0.],\n",
       "       [0., 0., 0., 0., 0.],\n",
       "       [0., 0., 0., 0., 0.]])"
      ]
     },
     "execution_count": 20,
     "metadata": {},
     "output_type": "execute_result"
    }
   ],
   "source": [
    "array_sparse.b_decomp[0].to_array()"
   ]
  },
  {
   "cell_type": "code",
   "execution_count": 21,
   "metadata": {},
   "outputs": [
    {
     "name": "stdout",
     "output_type": "stream",
     "text": [
      "ONe\n",
      "[[0. 0.]\n",
      " [0. 0.]\n",
      " [0. 0.]\n",
      " [0. 0.]\n",
      " [0. 0.]]\n",
      "ONe\n",
      "[[0.         0.        ]\n",
      " [0.         0.        ]\n",
      " [0.         0.        ]\n",
      " [1.93382465 2.53036939]\n",
      " [0.         0.        ]]\n",
      "ONe\n",
      "[[0.         0.        ]\n",
      " [0.         0.        ]\n",
      " [0.         0.        ]\n",
      " [0.24172808 0.31629617]\n",
      " [0.         0.        ]]\n",
      "ONe\n",
      "[[0. 0.]\n",
      " [0. 0.]\n",
      " [0. 0.]\n",
      " [0. 0.]\n",
      " [0. 0.]]\n",
      "ONe\n",
      "[[2.33103878 3.96548764]\n",
      " [0.         0.        ]\n",
      " [0.         0.        ]\n",
      " [4.30618718 5.67116191]\n",
      " [4.74546508 2.33992233]]\n",
      "ONe\n",
      "[[0. 0.]\n",
      " [0. 0.]\n",
      " [0. 0.]\n",
      " [0. 0.]\n",
      " [0. 0.]]\n",
      "ONe\n",
      "[[1.93382465 2.53036939]\n",
      " [0.         0.        ]\n",
      " [0.         0.        ]\n",
      " [0.         0.        ]\n",
      " [0.         0.        ]]\n",
      "ONe\n",
      "[[0.         0.        ]\n",
      " [0.         0.        ]\n",
      " [0.         0.        ]\n",
      " [3.95455424 1.94993527]\n",
      " [0.         0.        ]]\n",
      "ONe\n",
      "[[2.17555273 2.84666556]\n",
      " [0.         0.        ]\n",
      " [0.         0.        ]\n",
      " [0.         0.        ]\n",
      " [0.         0.        ]]\n",
      "ONe\n",
      "[[0.         0.        ]\n",
      " [0.96691232 1.26518469]\n",
      " [0.         0.        ]\n",
      " [0.         0.        ]\n",
      " [0.         0.        ]]\n",
      "ONe\n",
      "[[0.         0.        ]\n",
      " [0.         0.        ]\n",
      " [2.87261845 2.32995207]\n",
      " [0.         0.        ]\n",
      " [0.         0.        ]]\n",
      "ONe\n",
      "[[0.48345616 0.63259235]\n",
      " [1.91507897 1.55330138]\n",
      " [0.         0.        ]\n",
      " [1.91507897 1.55330138]\n",
      " [0.77701293 1.32182921]]\n",
      "ONe\n",
      "[[0. 0.]\n",
      " [0. 0.]\n",
      " [0. 0.]\n",
      " [0. 0.]\n",
      " [0. 0.]]\n",
      "ONe\n",
      "[[2.71954524 4.62640225]\n",
      " [5.53637593 2.72990938]\n",
      " [0.         0.        ]\n",
      " [5.02388504 6.61635556]\n",
      " [0.         0.        ]]\n",
      "ONe\n",
      "[[0. 0.]\n",
      " [0. 0.]\n",
      " [0. 0.]\n",
      " [0. 0.]\n",
      " [0. 0.]]\n",
      "ONe\n",
      "[[0. 0.]\n",
      " [0. 0.]\n",
      " [0. 0.]\n",
      " [0. 0.]\n",
      " [0. 0.]]\n",
      "ONe\n",
      "[[0.         0.        ]\n",
      " [2.15309359 2.83558095]\n",
      " [0.         0.        ]\n",
      " [5.245351   3.49991324]\n",
      " [0.         0.        ]]\n",
      "ONe\n",
      "[[0.         0.        ]\n",
      " [0.         0.        ]\n",
      " [4.30618718 5.67116191]\n",
      " [0.         0.        ]\n",
      " [1.45036849 1.89777704]]\n",
      "ONe\n",
      "[[0. 0.]\n",
      " [0. 0.]\n",
      " [0. 0.]\n",
      " [0. 0.]\n",
      " [0. 0.]]\n",
      "ONe\n",
      "[[0. 0.]\n",
      " [0. 0.]\n",
      " [0. 0.]\n",
      " [0. 0.]\n",
      " [0. 0.]]\n"
     ]
    },
    {
     "data": {
      "text/plain": [
       "array([[0., 0.],\n",
       "       [0., 0.],\n",
       "       [0., 0.],\n",
       "       [0., 0.],\n",
       "       [0., 0.]])"
      ]
     },
     "execution_count": 21,
     "metadata": {},
     "output_type": "execute_result"
    }
   ],
   "source": [
    "array_sparse.dot2d(u)"
   ]
  },
  {
   "cell_type": "code",
   "execution_count": null,
   "metadata": {},
   "outputs": [],
   "source": []
  },
  {
   "cell_type": "code",
   "execution_count": null,
   "metadata": {},
   "outputs": [],
   "source": []
  }
 ],
 "metadata": {
  "kernelspec": {
   "display_name": "Python 3",
   "language": "python",
   "name": "python3"
  },
  "language_info": {
   "codemirror_mode": {
    "name": "ipython",
    "version": 3
   },
   "file_extension": ".py",
   "mimetype": "text/x-python",
   "name": "python",
   "nbconvert_exporter": "python",
   "pygments_lexer": "ipython3",
   "version": "3.7.3"
  }
 },
 "nbformat": 4,
 "nbformat_minor": 4
}
